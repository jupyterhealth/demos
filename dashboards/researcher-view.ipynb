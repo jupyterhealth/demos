{
 "cells": [
  {
   "cell_type": "markdown",
   "id": "0",
   "metadata": {},
   "source": [
    "# Researcher view for exploring data\n",
    "\n",
    "More code-orientied exploration of data, view for researchers.\n",
    "\n",
    "First, fetch data for user."
   ]
  },
  {
   "cell_type": "code",
   "execution_count": null,
   "id": "1",
   "metadata": {},
   "outputs": [],
   "source": [
    "from enum import Enum\n",
    "\n",
    "import pandas as pd\n",
    "from jupyter_health import JupyterHealthCHClient\n",
    "\n",
    "pd.options.mode.chained_assignment = None\n",
    "\n",
    "ch_client = JupyterHealthCHClient()\n",
    "\n",
    "patient_id = \"test-user\"\n",
    "\n",
    "df = ch_client.fetch_data_frame(patient_id)\n",
    "df.head()"
   ]
  },
  {
   "cell_type": "markdown",
   "id": "2",
   "metadata": {},
   "source": [
    "Reduce data to relevant subset for blood pressure"
   ]
  },
  {
   "cell_type": "code",
   "execution_count": null,
   "id": "3",
   "metadata": {},
   "outputs": [],
   "source": [
    "# reduce data\n",
    "bp = df.loc[df.resource_type == 'BLOOD_PRESSURE', ['systolic_blood_pressure_value', 'diastolic_blood_pressure_value', 'effective_time_frame_date_time']]\n",
    "bp = bp.astype({\"systolic_blood_pressure_value\": int, \"diastolic_blood_pressure_value\": int})\n",
    "bp"
   ]
  },
  {
   "cell_type": "markdown",
   "id": "4",
   "metadata": {},
   "source": [
    "Plot over time"
   ]
  },
  {
   "cell_type": "code",
   "execution_count": null,
   "id": "5",
   "metadata": {},
   "outputs": [],
   "source": [
    "bp.plot(x=\"effective_time_frame_date_time\", y=[\"diastolic_blood_pressure_value\", \"systolic_blood_pressure_value\"])"
   ]
  },
  {
   "cell_type": "markdown",
   "id": "6",
   "metadata": {},
   "source": [
    "Compute goals, categories"
   ]
  },
  {
   "cell_type": "code",
   "execution_count": null,
   "id": "7",
   "metadata": {},
   "outputs": [],
   "source": [
    "class Goal(Enum):\n",
    "    \"\"\"Enum for met/unmet\n",
    "\n",
    "    These strings will be used for the legend.\n",
    "    \"\"\"\n",
    "\n",
    "    met = \"goal\"\n",
    "    unmet = \"over\"\n",
    "\n",
    "\n",
    "class Category(Enum):\n",
    "    normal = \"normal\"\n",
    "    elevated = \"elevated\"\n",
    "    hypertension = \"hypertension\"\n",
    "\n",
    "\n",
    "def classify_bp(row):\n",
    "    \"\"\"Classify blood pressure\"\"\"\n",
    "    # https://www.heart.org/en/health-topics/high-blood-pressure/understanding-blood-pressure-readings\n",
    "    # note from : We can decide to have just normal, elevated and hypertension to begin with\n",
    "    if (\n",
    "        row.diastolic_blood_pressure_value < 80\n",
    "        and row.systolic_blood_pressure_value < 120\n",
    "    ):\n",
    "        return Category.normal.value\n",
    "    elif (\n",
    "        row.diastolic_blood_pressure_value < 80\n",
    "        and 120 <= row.systolic_blood_pressure_value < 130\n",
    "    ):\n",
    "        return Category.elevated.value\n",
    "    else:\n",
    "        return Category.hypertension.value\n",
    "\n",
    "\n",
    "def bp_goal(patient_df, goal=\"140/90\"):\n",
    "    \"\"\"True/False for blood pressure met goal\"\"\"\n",
    "    sys_goal, dia_goal = (int(s) for s in goal.split(\"/\"))\n",
    "    if (patient_df.systolic_blood_pressure_value <= sys_goal) & (\n",
    "        patient_df.diastolic_blood_pressure_value <= dia_goal\n",
    "    ):\n",
    "        return Goal.met.value\n",
    "    else:\n",
    "        return Goal.unmet.value\n",
    "\n",
    "\n",
    "bp[\"category\"] = bp.apply(classify_bp, axis=1)\n",
    "bp[\"goal\"] = bp.apply(bp_goal, axis=1)\n",
    "bp"
   ]
  },
  {
   "cell_type": "markdown",
   "id": "8",
   "metadata": {},
   "source": [
    "Compute fractions by category, goal"
   ]
  },
  {
   "cell_type": "code",
   "execution_count": null,
   "id": "9",
   "metadata": {},
   "outputs": [],
   "source": [
    "bp.category.value_counts(normalize=True)"
   ]
  },
  {
   "cell_type": "code",
   "execution_count": null,
   "id": "10",
   "metadata": {},
   "outputs": [],
   "source": [
    "bp.goal.value_counts(normalize=True)"
   ]
  },
  {
   "cell_type": "markdown",
   "id": "11",
   "metadata": {},
   "source": [
    "Test out styling based on therapeutic goal "
   ]
  },
  {
   "cell_type": "code",
   "execution_count": null,
   "id": "12",
   "metadata": {},
   "outputs": [],
   "source": [
    "def bp_goal_style(row):\n",
    "    \"\"\"highlight rows exceeding bp goal\"\"\"\n",
    "    goal = Goal(row.goal)\n",
    "    if goal == Goal.unmet:\n",
    "        color = \"#fdd\"\n",
    "    else:\n",
    "        color = None\n",
    "    \n",
    "    return [f\"background-color:{color}\" if color else None] * len(row)\n",
    "\n",
    "\n",
    "bp[-50:].style.hide().hide([\"category\", \"goal\"], axis=\"columns\").apply(bp_goal_style, axis=1)"
   ]
  }
 ],
 "metadata": {
  "kernelspec": {
   "display_name": "Python 3 (ipykernel)",
   "language": "python",
   "name": "python3"
  },
  "language_info": {
   "codemirror_mode": {
    "name": "ipython",
    "version": 3
   },
   "file_extension": ".py",
   "mimetype": "text/x-python",
   "name": "python",
   "nbconvert_exporter": "python",
   "pygments_lexer": "ipython3",
   "version": "3.11.8"
  }
 },
 "nbformat": 4,
 "nbformat_minor": 5
}
