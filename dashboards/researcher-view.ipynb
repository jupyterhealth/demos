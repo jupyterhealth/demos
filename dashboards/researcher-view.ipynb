{
 "cells": [
  {
   "cell_type": "markdown",
   "id": "0",
   "metadata": {},
   "source": [
    "# Researcher view for exploring data\n",
    "\n",
    "More code-orientied exploration of data, view for researchers.\n",
    "\n",
    "First, list available studiest and patients"
   ]
  },
  {
   "cell_type": "code",
   "execution_count": null,
   "id": "1",
   "metadata": {},
   "outputs": [],
   "source": [
    "from enum import Enum\n",
    "\n",
    "import pandas as pd\n",
    "from jupyterhealth_client import Code, JupyterHealthClient\n",
    "\n",
    "BLOOD_PRESSURE = Code.BLOOD_PRESSURE.value\n",
    "CGM = Code.BLOOD_GLUCOSE\n",
    "\n",
    "pd.options.mode.chained_assignment = None\n",
    "\n",
    "jh_client = JupyterHealthClient()"
   ]
  },
  {
   "cell_type": "code",
   "execution_count": null,
   "id": "2",
   "metadata": {},
   "outputs": [],
   "source": [
    "org_dict = {org['id']: org for org in jh_client.list_organizations()}\n",
    "# children is not populated\n",
    "for org in org_dict.values():\n",
    "    parent_id = org['partOf']\n",
    "    if parent_id is not None:\n",
    "        parent = org_dict[parent_id]\n",
    "        parent.setdefault(\"child_ids\", []).append(org['id'])"
   ]
  },
  {
   "cell_type": "code",
   "execution_count": null,
   "id": "3",
   "metadata": {},
   "outputs": [],
   "source": [
    "def print_org(org, indent=''):\n",
    "    print(f\"{indent}[{org['id']}] {org['name']}\")\n",
    "    for org_id in org.get('child_ids', []):\n",
    "        print_org(org_dict[org_id], indent=\" \" * len(indent) + \" ⮑\")\n",
    "\n",
    "\n",
    "for org_id in org_dict[0]['child_ids']:\n",
    "    print_org(org_dict[org_id])"
   ]
  },
  {
   "cell_type": "code",
   "execution_count": null,
   "id": "4",
   "metadata": {},
   "outputs": [],
   "source": [
    "print(\"All my studies:\")\n",
    "for study in jh_client.list_studies():\n",
    "    print(f\"  - [{study['id']}] {study['name']} org:{study['organization']['name']}\")"
   ]
  },
  {
   "cell_type": "code",
   "execution_count": null,
   "id": "5",
   "metadata": {},
   "outputs": [],
   "source": [
    "# show all the patients with study data I have access to:\n",
    "print(\"Patients with data I have access to:\")\n",
    "\n",
    "for patient in jh_client.list_patients():\n",
    "    consents = jh_client.get_patient_consents(patient['id'])\n",
    "    print(f\"[{patient['id']}] {patient['nameFamily']}, {patient['nameGiven']}: {patient['telecomEmail']}\")\n",
    "    for study in consents['studies']:\n",
    "        print(f\"  - [{study['id']}] {study['name']}\")\n",
    "    for study in consents['studiesPendingConsent']:\n",
    "        print(f\"  - (not consented) [{study['id']}] {study['name']}\")\n",
    "    if not consents['studies'] and not consents['studiesPendingConsent']:\n",
    "        print(\"  (no studies)\") "
   ]
  },
  {
   "cell_type": "markdown",
   "id": "6",
   "metadata": {},
   "source": [
    "## Select study and patient\n",
    "\n",
    "At this point, we can edit the code below to select the study and patient we are interested in.\n",
    "This is the same thing the widgets do in the dashboard."
   ]
  },
  {
   "cell_type": "code",
   "execution_count": null,
   "id": "7",
   "metadata": {},
   "outputs": [],
   "source": [
    "# pick patient id, study id from above\n",
    "study_id = 30012\n",
    "patient_id = 40037\n",
    "\n",
    "df = jh_client.list_observations_df(patient_id=patient_id, study_id=study_id, limit=10_000)\n",
    "\n",
    "df.head()"
   ]
  },
  {
   "cell_type": "code",
   "execution_count": null,
   "id": "8",
   "metadata": {},
   "outputs": [],
   "source": [
    "df = df.sort_values(\"id\")"
   ]
  },
  {
   "cell_type": "code",
   "execution_count": null,
   "id": "9",
   "metadata": {},
   "outputs": [],
   "source": [
    "df.id.value_counts()"
   ]
  },
  {
   "cell_type": "markdown",
   "id": "10",
   "metadata": {},
   "source": [
    "obs = []\n",
    "for ob in jh_client.list_observations(patient_id=patient_id, study_id=study_id, limit=1000_000):\n",
    "    obs.append(ob)\n"
   ]
  },
  {
   "cell_type": "code",
   "execution_count": null,
   "id": "11",
   "metadata": {},
   "outputs": [],
   "source": [
    "\n"
   ]
  },
  {
   "cell_type": "code",
   "execution_count": null,
   "id": "12",
   "metadata": {},
   "outputs": [],
   "source": [
    "obs = list(jh_client.list_observations(patient_id=patient_id, study_id=study_id, code=CGM, limit=5000))\n",
    "ob = obs[0]"
   ]
  },
  {
   "cell_type": "code",
   "execution_count": null,
   "id": "13",
   "metadata": {},
   "outputs": [],
   "source": [
    "from jupyterhealth_client._utils import tidy_observation"
   ]
  },
  {
   "cell_type": "code",
   "execution_count": null,
   "id": "14",
   "metadata": {},
   "outputs": [],
   "source": [
    "tidy_observation(ob)"
   ]
  },
  {
   "cell_type": "code",
   "execution_count": null,
   "id": "15",
   "metadata": {},
   "outputs": [],
   "source": [
    "df['meta_lastUpdated'] = pd.to_datetime(df.meta_lastUpdated)"
   ]
  },
  {
   "cell_type": "code",
   "execution_count": null,
   "id": "16",
   "metadata": {},
   "outputs": [],
   "source": [
    "df.meta_lastUpdated.max()"
   ]
  },
  {
   "cell_type": "code",
   "execution_count": null,
   "id": "17",
   "metadata": {},
   "outputs": [],
   "source": [
    "df.meta_lastUpdated.min()"
   ]
  },
  {
   "cell_type": "code",
   "execution_count": null,
   "id": "18",
   "metadata": {},
   "outputs": [],
   "source": [
    "df.sort_values('effective_time_frame_date_time').plot(x='effective_time_frame_date_time', y='blood_glucose_value')"
   ]
  },
  {
   "cell_type": "code",
   "execution_count": null,
   "id": "19",
   "metadata": {},
   "outputs": [],
   "source": [
    "len(df)"
   ]
  },
  {
   "cell_type": "code",
   "execution_count": null,
   "id": "20",
   "metadata": {},
   "outputs": [],
   "source": [
    "r = jh_client._api_request(\"Observation\", fhir=True, params={\"_has:Group:member:_id\": study_id})"
   ]
  },
  {
   "cell_type": "code",
   "execution_count": null,
   "id": "21",
   "metadata": {},
   "outputs": [],
   "source": [
    "r[\"entry\"][0]['resource']"
   ]
  },
  {
   "cell_type": "code",
   "execution_count": null,
   "id": "22",
   "metadata": {},
   "outputs": [],
   "source": [
    "jh_client.session.get(r['link']["
   ]
  },
  {
   "cell_type": "code",
   "execution_count": null,
   "id": "23",
   "metadata": {},
   "outputs": [],
   "source": [
    "len(df)"
   ]
  },
  {
   "cell_type": "markdown",
   "id": "24",
   "metadata": {},
   "source": [
    "Reduce data to relevant subset for blood pressure"
   ]
  },
  {
   "cell_type": "code",
   "execution_count": null,
   "id": "25",
   "metadata": {},
   "outputs": [],
   "source": [
    "# reduce data\n",
    "bp = df.loc[df.resource_type == BLOOD_PRESSURE, ['systolic_blood_pressure_value', 'diastolic_blood_pressure_value', 'effective_time_frame_date_time']]\n",
    "bp = bp.astype({\"systolic_blood_pressure_value\": int, \"diastolic_blood_pressure_value\": int})\n",
    "bp"
   ]
  },
  {
   "cell_type": "markdown",
   "id": "26",
   "metadata": {},
   "source": [
    "Plot over time"
   ]
  },
  {
   "cell_type": "code",
   "execution_count": null,
   "id": "27",
   "metadata": {},
   "outputs": [],
   "source": [
    "bp.plot(x=\"effective_time_frame_date_time\", y=[\"diastolic_blood_pressure_value\", \"systolic_blood_pressure_value\"])"
   ]
  },
  {
   "cell_type": "markdown",
   "id": "28",
   "metadata": {},
   "source": [
    "Compute goals, categories"
   ]
  },
  {
   "cell_type": "code",
   "execution_count": null,
   "id": "29",
   "metadata": {},
   "outputs": [],
   "source": [
    "from functools import partial\n",
    "\n",
    "\n",
    "class Goal(Enum):\n",
    "    \"\"\"Enum for met/unmet\n",
    "\n",
    "    These strings will be used for the legend.\n",
    "    \"\"\"\n",
    "\n",
    "    met = \"goal\"\n",
    "    unmet = \"over\"\n",
    "\n",
    "\n",
    "class Category(Enum):\n",
    "    normal = \"normal\"\n",
    "    elevated = \"elevated\"\n",
    "    hypertension = \"hypertension\"\n",
    "\n",
    "\n",
    "def classify_bp(row):\n",
    "    \"\"\"Classify blood pressure\"\"\"\n",
    "    # https://www.heart.org/en/health-topics/high-blood-pressure/understanding-blood-pressure-readings\n",
    "    # note from : We can decide to have just normal, elevated and hypertension to begin with\n",
    "    if (\n",
    "        row.diastolic_blood_pressure_value < 80\n",
    "        and row.systolic_blood_pressure_value < 120\n",
    "    ):\n",
    "        return Category.normal.value\n",
    "    elif (\n",
    "        row.diastolic_blood_pressure_value < 80\n",
    "        and 120 <= row.systolic_blood_pressure_value < 130\n",
    "    ):\n",
    "        return Category.elevated.value\n",
    "    else:\n",
    "        return Category.hypertension.value\n",
    "\n",
    "\n",
    "def bp_goal(patient_df, goal=\"140/90\"):\n",
    "    \"\"\"True/False for blood pressure met goal\"\"\"\n",
    "    sys_goal, dia_goal = (int(s) for s in goal.split(\"/\"))\n",
    "    if (patient_df.systolic_blood_pressure_value <= sys_goal) & (\n",
    "        patient_df.diastolic_blood_pressure_value <= dia_goal\n",
    "    ):\n",
    "        return Goal.met.value\n",
    "    else:\n",
    "        return Goal.unmet.value\n",
    "\n",
    "\n",
    "bp[\"category\"] = bp.apply(classify_bp, axis=1)\n",
    "goal = \"110/70\"\n",
    "\n",
    "bp[\"goal\"] = bp.apply(partial(bp_goal, goal=\"110/70\"), axis=1)\n",
    "bp"
   ]
  },
  {
   "cell_type": "markdown",
   "id": "30",
   "metadata": {},
   "source": [
    "Compute fractions by category, goal"
   ]
  },
  {
   "cell_type": "code",
   "execution_count": null,
   "id": "31",
   "metadata": {},
   "outputs": [],
   "source": [
    "bp.category.value_counts(normalize=True)"
   ]
  },
  {
   "cell_type": "code",
   "execution_count": null,
   "id": "32",
   "metadata": {},
   "outputs": [],
   "source": [
    "bp.goal.value_counts(normalize=True)"
   ]
  },
  {
   "cell_type": "markdown",
   "id": "33",
   "metadata": {},
   "source": [
    "Test out styling based on therapeutic goal "
   ]
  },
  {
   "cell_type": "code",
   "execution_count": null,
   "id": "34",
   "metadata": {},
   "outputs": [],
   "source": [
    "def bp_goal_style(row):\n",
    "    \"\"\"highlight rows exceeding bp goal\"\"\"\n",
    "    goal = Goal(row.goal)\n",
    "    if goal == Goal.unmet:\n",
    "        color = \"#fdd\"\n",
    "    else:\n",
    "        color = None\n",
    "    \n",
    "    return [f\"background-color:{color}\" if color else None] * len(row)\n",
    "\n",
    "\n",
    "bp[-50:].style.hide().hide([\"category\", \"goal\"], axis=\"columns\").apply(bp_goal_style, axis=1)"
   ]
  },
  {
   "cell_type": "code",
   "execution_count": null,
   "id": "35",
   "metadata": {},
   "outputs": [],
   "source": []
  }
 ],
 "metadata": {
  "kernelspec": {
   "display_name": "Python 3 (ipykernel)",
   "language": "python",
   "name": "python3"
  },
  "language_info": {
   "codemirror_mode": {
    "name": "ipython",
    "version": 3
   },
   "file_extension": ".py",
   "mimetype": "text/x-python",
   "name": "python",
   "nbconvert_exporter": "python",
   "pygments_lexer": "ipython3",
   "version": "3.11.8"
  }
 },
 "nbformat": 4,
 "nbformat_minor": 5
}
