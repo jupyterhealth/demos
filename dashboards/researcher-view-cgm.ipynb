{
 "cells": [
  {
   "cell_type": "markdown",
   "id": "0",
   "metadata": {},
   "source": [
    "# Researcher view for exploring data\n",
    "\n",
    "More code-orientied exploration of data, view for researchers.\n",
    "\n",
    "First, list available studiest and patients"
   ]
  },
  {
   "cell_type": "code",
   "execution_count": null,
   "id": "1",
   "metadata": {},
   "outputs": [],
   "source": [
    "from enum import Enum\n",
    "\n",
    "import pandas as pd\n",
    "from jupyterhealth_client import Code, JupyterHealthClient\n",
    "\n",
    "CGM = Code.BLOOD_GLUCOSE\n",
    "\n",
    "pd.options.mode.chained_assignment = None\n",
    "\n",
    "jh_client = JupyterHealthClient()"
   ]
  },
  {
   "cell_type": "code",
   "execution_count": null,
   "id": "2",
   "metadata": {},
   "outputs": [],
   "source": [
    "org_dict = {org['id']: org for org in jh_client.list_organizations()}\n",
    "# children is not populated\n",
    "for org in org_dict.values():\n",
    "    parent_id = org['partOf']\n",
    "    if parent_id is not None:\n",
    "        parent = org_dict[parent_id]\n",
    "        parent.setdefault(\"child_ids\", []).append(org['id'])"
   ]
  },
  {
   "cell_type": "code",
   "execution_count": null,
   "id": "3",
   "metadata": {},
   "outputs": [],
   "source": [
    "def print_org(org, indent=''):\n",
    "    print(f\"{indent}[{org['id']}] {org['name']}\")\n",
    "    for org_id in org.get('child_ids', []):\n",
    "        print_org(org_dict[org_id], indent=\" \" * len(indent) + \" ⮑\")\n",
    "\n",
    "\n",
    "for org_id in org_dict[0]['child_ids']:\n",
    "    print_org(org_dict[org_id])"
   ]
  },
  {
   "cell_type": "code",
   "execution_count": null,
   "id": "4",
   "metadata": {},
   "outputs": [],
   "source": [
    "print(\"All my studies:\")\n",
    "for study in jh_client.list_studies():\n",
    "    print(f\"  - [{study['id']}] {study['name']} org:{study['organization']['name']}\")"
   ]
  },
  {
   "cell_type": "code",
   "execution_count": null,
   "id": "5",
   "metadata": {},
   "outputs": [],
   "source": [
    "# show all the patients with study data I have access to:\n",
    "print(\"Patients with data I have access to:\")\n",
    "\n",
    "for patient in jh_client.list_patients():\n",
    "    consents = jh_client.get_patient_consents(patient['id'])\n",
    "    print(f\"[{patient['id']}] {patient['nameFamily']}, {patient['nameGiven']}: {patient['telecomEmail']}\")\n",
    "    for study in consents['studies']:\n",
    "        print(f\"  - [{study['id']}] {study['name']}\")\n",
    "    for study in consents['studiesPendingConsent']:\n",
    "        print(f\"  - (not consented) [{study['id']}] {study['name']}\")\n",
    "    if not consents['studies'] and not consents['studiesPendingConsent']:\n",
    "        print(\"  (no studies)\") "
   ]
  },
  {
   "cell_type": "markdown",
   "id": "6",
   "metadata": {},
   "source": [
    "## Select study and patient\n",
    "\n",
    "At this point, we can edit the code below to select the study and patient we are interested in.\n",
    "This is the same thing the widgets do in the dashboard."
   ]
  },
  {
   "cell_type": "code",
   "execution_count": null,
   "id": "7",
   "metadata": {},
   "outputs": [],
   "source": [
    "# pick patient id, study id from above\n",
    "study_id = 30012\n",
    "patient_id = 40037\n",
    "\n",
    "df = jh_client.list_observations_df(patient_id=patient_id, study_id=study_id, limit=10_000, code=CGM)\n",
    "\n",
    "df.head()"
   ]
  },
  {
   "cell_type": "code",
   "execution_count": null,
   "id": "8",
   "metadata": {},
   "outputs": [],
   "source": [
    "df.iloc[0]"
   ]
  },
  {
   "cell_type": "markdown",
   "id": "9",
   "metadata": {},
   "source": [
    "Reduce data to relevant subset for cgm"
   ]
  },
  {
   "cell_type": "code",
   "execution_count": null,
   "id": "10",
   "metadata": {},
   "outputs": [],
   "source": [
    "assert (df.blood_glucose_unit == 'MGDL').all()\n",
    "# reduce data\n",
    "cgm = df.loc[\n",
    "    df.resource_type == CGM.value,\n",
    "    [\n",
    "        \"blood_glucose_value\",\n",
    "        \"effective_time_frame_date_time_local\",\n",
    "    ],\n",
    "]\n",
    "# ensure sorted by date\n",
    "cgm = cgm.sort_values(\"effective_time_frame_date_time_local\")"
   ]
  },
  {
   "cell_type": "markdown",
   "id": "11",
   "metadata": {},
   "source": [
    "Plot over time"
   ]
  },
  {
   "cell_type": "code",
   "execution_count": null,
   "id": "12",
   "metadata": {},
   "outputs": [],
   "source": [
    "cgm.plot(x=\"effective_time_frame_date_time_local\", y=[\"blood_glucose_value\"])"
   ]
  },
  {
   "cell_type": "markdown",
   "id": "13",
   "metadata": {},
   "source": [
    "Compute goals, categories"
   ]
  },
  {
   "cell_type": "code",
   "execution_count": null,
   "id": "14",
   "metadata": {},
   "outputs": [],
   "source": [
    "class Goal(Enum):\n",
    "    \"\"\"Enum for met/unmet\n",
    "\n",
    "    These strings will be used for the legend.\n",
    "    \"\"\"\n",
    "    \n",
    "    met = \"goal\"\n",
    "    unmet = \"over\"\n",
    "\n",
    "\n",
    "class Category(Enum):\n",
    "    very_high = \"Very High\"\n",
    "    high = \"High\"\n",
    "    target_range = \"Target Range\"\n",
    "    low = \"Low\"\n",
    "    very_low = \"Very Low\"\n",
    "\n",
    "\n",
    "def classify_glucose(row):\n",
    "    \"\"\"Classify blood glucose\"\"\"\n",
    "    if row.blood_glucose_value < 54:\n",
    "        return Category.very_low.value\n",
    "    elif row.blood_glucose_value < 70:\n",
    "        return Category.low.value\n",
    "    elif row.blood_glucose_value < 180:\n",
    "        return Category.target_range.value\n",
    "    elif row.blood_glucose_value < 250:\n",
    "        return Category.high.value\n",
    "    else:\n",
    "        return Category.very_high.value\n",
    "\n",
    "\n",
    "cgm[\"category\"] = cgm.apply(classify_glucose, axis=1)\n",
    "# goal = \"110/70\"\n",
    "\n",
    "# bp[\"goal\"] = bp.apply(partial(bp_goal, goal=\"110/70\"), axis=1)\n",
    "# bp\n",
    "cgm.category.value_counts()"
   ]
  },
  {
   "cell_type": "markdown",
   "id": "15",
   "metadata": {},
   "source": [
    "Compute fractions by category, goal"
   ]
  },
  {
   "cell_type": "code",
   "execution_count": null,
   "id": "16",
   "metadata": {},
   "outputs": [],
   "source": [
    "cgm.category.value_counts(normalize=True)"
   ]
  },
  {
   "cell_type": "markdown",
   "id": "17",
   "metadata": {},
   "source": [
    "Test out styling based on therapeutic goal "
   ]
  },
  {
   "cell_type": "code",
   "execution_count": null,
   "id": "18",
   "metadata": {},
   "outputs": [],
   "source": [
    "category_colors = {\n",
    "    Category.very_high.value: \"#FF5500\",\n",
    "    Category.high.value: \"#FFA500\",\n",
    "    Category.target_range.value: \"#afa\",\n",
    "    Category.low.value: \"#f44\",\n",
    "    Category.very_low.value: \"#a00\",\n",
    "}\n",
    "\n",
    "\n",
    "def goal_style(row):\n",
    "    \"\"\"highlight rows outside target range\"\"\"\n",
    "    color = category_colors.get(row.category)\n",
    "    return [f\"background-color:{color}\" if color else None] * len(row)\n",
    "\n",
    "\n",
    "cgm[-50:].style.hide().hide([\"category\"], axis=\"columns\").apply(goal_style, axis=1)"
   ]
  },
  {
   "cell_type": "code",
   "execution_count": null,
   "id": "19",
   "metadata": {},
   "outputs": [],
   "source": [
    "# average\n",
    "cgm.blood_glucose_value.mean()"
   ]
  },
  {
   "cell_type": "code",
   "execution_count": null,
   "id": "20",
   "metadata": {},
   "outputs": [],
   "source": [
    "import altair as alt\n",
    "\n",
    "category_table = pd.DataFrame(\n",
    "    {\n",
    "        \"range\": [\n",
    "            Category.very_low.value,\n",
    "            Category.low.value,\n",
    "            Category.target_range.value,\n",
    "            Category.high.value,\n",
    "            Category.very_high.value,\n",
    "        ],\n",
    "        \"lower\": [0, 54, 70, 180, 250],\n",
    "        \"upper\": [54, 70, 180, 250, 300],\n",
    "    }\n",
    ")\n",
    "\n",
    "chart = (\n",
    "    alt.Chart(cgm)\n",
    "    .mark_line()\n",
    "    .transform_window(\n",
    "        med_glucose=\"median(blood_glucose_value)\",\n",
    "        frame=[-12, 12],\n",
    "    )\n",
    "    .encode(\n",
    "        x=alt.X(\"effective_time_frame_date_time_local:T\", title=\"date\"),\n",
    "        y=alt.Y(\"med_glucose:Q\", title=\"mg/dL\"),\n",
    "        # color=alt.Color(\"category\").scale(color_scale)\n",
    "    )\n",
    "    .interactive()\n",
    ")\n",
    "color_scale = alt.Scale(\n",
    "    domain=list(category_colors.keys()),\n",
    "    range=list(category_colors.values()),\n",
    ")\n",
    "# chart |\n",
    "color_background = (\n",
    "    alt.Chart(category_table)\n",
    "    .mark_rect(opacity=0.1)\n",
    "    .encode(\n",
    "        x=alt.value(0),\n",
    "        x2=alt.value(300),\n",
    "        y=\"lower\",\n",
    "        y2=\"upper\",\n",
    "        color=alt.Color(\"range\").scale(color_scale),\n",
    "    )\n",
    ")\n",
    "chart + color_background"
   ]
  },
  {
   "cell_type": "code",
   "execution_count": null,
   "id": "21",
   "metadata": {},
   "outputs": [],
   "source": [
    "cgm.columns"
   ]
  },
  {
   "cell_type": "code",
   "execution_count": null,
   "id": "22",
   "metadata": {},
   "outputs": [],
   "source": [
    "# compute time-of-day column\n",
    "import datetime\n",
    "\n",
    "dt = cgm.effective_time_frame_date_time_local.dt\n",
    "sameday = cgm.effective_time_frame_date_time_local\n",
    "tod = dt.hour * 3600 + dt.minute * 60 + dt.second\n",
    "cgm[\"time\"] = tod.apply(lambda seconds: datetime.datetime.now().replace(hour=0, minute=0, second=0, microsecond=0)\n",
    "+ datetime.timedelta(seconds=seconds))\n",
    "cgm.sort_values(\"time\", inplace=True)\n",
    "\n",
    "# compute quantiles across all days\n",
    "rolling = cgm.rolling(\"1h\", on=\"time\").blood_glucose_value\n",
    "cgm[\"5\"] = rolling.quantile(.05)\n",
    "cgm[\"25\"] = rolling.quantile(.25)\n",
    "cgm[\"50\"] = rolling.quantile(.50)\n",
    "cgm[\"75\"] = rolling.quantile(.75)\n",
    "cgm[\"95\"] = rolling.quantile(.95)\n",
    "\n",
    "color = alt.Color(\"category:O\", title=\"mg/dL\").scale(\n",
    "        domain=list(category_colors.keys()),\n",
    "        range=list(category_colors.values()))\n",
    "\n",
    "# plot quantile ranges over the color background\n",
    "alt.Chart(cgm).mark_area(opacity=0.2).encode(\n",
    "    x=alt.X(\"time\", title=\"time of day\"),\n",
    "    y=\"5\",\n",
    "    y2=\"95\",\n",
    ") + alt.Chart(cgm).mark_area(opacity=0.5).encode(\n",
    "    x=\"time\",\n",
    "    y=\"25\",\n",
    "    y2=\"75\",\n",
    ") + alt.Chart(cgm).mark_line().encode(\n",
    "    x=\"time\",\n",
    "    y=alt.Y(\"50\", title=\"mg/dL\"),\n",
    ") + color_background"
   ]
  },
  {
   "cell_type": "code",
   "execution_count": null,
   "id": "23",
   "metadata": {},
   "outputs": [],
   "source": [
    "# compute 'active %'\n",
    "# the definition of this metric is not clear,\n",
    "# but since it samples every 5 minutes,\n",
    "# divide the number of samples by the expected number of samples\n",
    "start = cgm.effective_time_frame_date_time_local.min()\n",
    "end = cgm.effective_time_frame_date_time_local.max()\n",
    "duration = (end-start).total_seconds()\n",
    "expected_count = duration / 300\n",
    "actual_count = len(cgm)\n",
    "f\"{actual_count / expected_count:.1%}\""
   ]
  },
  {
   "cell_type": "code",
   "execution_count": null,
   "id": "24",
   "metadata": {},
   "outputs": [],
   "source": [
    "# compute\n",
    "fractions_by_category = cgm.category.value_counts() / len(cgm)\n",
    "fractions_by_category"
   ]
  },
  {
   "cell_type": "markdown",
   "id": "25",
   "metadata": {},
   "source": [
    "Compute fractions in each range"
   ]
  },
  {
   "cell_type": "code",
   "execution_count": null,
   "id": "26",
   "metadata": {},
   "outputs": [],
   "source": [
    "very_high = fractions_by_category.get(Category.very_high.value, 0)\n",
    "high = fractions_by_category.get(Category.high.value, 0)\n",
    "target = fractions_by_category.get(Category.target_range.value, 0)\n",
    "low = fractions_by_category.get(Category.low.value, 0)\n",
    "very_low = fractions_by_category.get(Category.very_low.value, 0)\n",
    "\n",
    "print(f\"{very_high:.0%} Very High (goal: <5%)\")\n",
    "print(f\"{high:.0%} High\")\n",
    "print(f\"{high + very_high:.0%} High or Very High (goal: <25%)\")\n",
    "print(f\"{target:.0%} Target (goal: >=70%)\")\n",
    "print(f\"{low:.0%} Low\")\n",
    "print(f\"{very_low:.0%} Very Low (goal <1%)\")\n",
    "print(f\"{low + very_low:.0%} Low or Very Low (goal <4%)\")"
   ]
  },
  {
   "cell_type": "code",
   "execution_count": null,
   "id": "27",
   "metadata": {},
   "outputs": [],
   "source": [
    "alt.Chart(cgm).mark_bar().encode(y=alt.Y(\"count()\", stack=\"normalize\", title=\"% of samples\"), color=color)"
   ]
  }
 ],
 "metadata": {
  "kernelspec": {
   "display_name": "Python 3 (ipykernel)",
   "language": "python",
   "name": "python3"
  },
  "language_info": {
   "codemirror_mode": {
    "name": "ipython",
    "version": 3
   },
   "file_extension": ".py",
   "mimetype": "text/x-python",
   "name": "python",
   "nbconvert_exporter": "python",
   "pygments_lexer": "ipython3",
   "version": "3.11.8"
  }
 },
 "nbformat": 4,
 "nbformat_minor": 5
}
